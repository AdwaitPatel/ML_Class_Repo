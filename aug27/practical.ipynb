{
 "cells": [
  {
   "cell_type": "markdown",
   "id": "938cb08f",
   "metadata": {},
   "source": [
    "Estimate parameters of a model based on maximum likelihood estimation method using a  given set of training data set."
   ]
  },
  {
   "cell_type": "code",
   "execution_count": 1,
   "id": "e266e0e8",
   "metadata": {},
   "outputs": [
    {
     "name": "stdout",
     "output_type": "stream",
     "text": [
      "Number of successes (k): 70\n",
      "Number of trials (n): 100\n",
      "MLE of success probability (p_hat): 0.7\n",
      "\n",
      "Number of successes (k): 5\n",
      "Number of trials (n): 20\n",
      "MLE of success probability (p_hat): 0.25\n"
     ]
    }
   ],
   "source": [
    "import numpy as np\n",
    "\n",
    "def mle_binomial_p(k, n):\n",
    "   \"\"\"\n",
    "   Calculates the Maximum Likelihood Estimate (MLE) for the success probability 'p'\n",
    "   of a binomial distribution.\n",
    " \n",
    "   Args:\n",
    "       k (int): The number of observed successes.\n",
    "       n (int): The total number of trials.\n",
    " \n",
    "   Returns:\n",
    "       float: The MLE of the success probability 'p'.\n",
    "   \"\"\"\n",
    "   if not isinstance(k, int) or not isinstance(n, int):\n",
    "       raise TypeError(\"k and n must be integers.\")\n",
    "   if k < 0 or n < 0:\n",
    "       raise ValueError(\"k and n must be non-negative.\")\n",
    "   if k > n:\n",
    "       raise ValueError(\"k cannot be greater than n.\")\n",
    "   if n == 0:\n",
    "       return np.nan # Undefined if no trials\n",
    "\n",
    "   return k / n\n",
    "\n",
    "# Example Usage:\n",
    "num_successes = 70\n",
    "num_trials = 100\n",
    "\n",
    "estimated_p = mle_binomial_p(num_successes, num_trials)\n",
    "print(f\"Number of successes (k): {num_successes}\")\n",
    "print(f\"Number of trials (n): {num_trials}\")\n",
    "print(f\"MLE of success probability (p_hat): {estimated_p}\")\n",
    "\n",
    "# Another example\n",
    "num_successes_2 = 5\n",
    "num_trials_2 = 20\n",
    "estimated_p_2 = mle_binomial_p(num_successes_2, num_trials_2)\n",
    "print(f\"\\nNumber of successes (k): {num_successes_2}\")\n",
    "print(f\"Number of trials (n): {num_trials_2}\")\n",
    "print(f\"MLE of success probability (p_hat): {estimated_p_2}\")"
   ]
  }
 ],
 "metadata": {
  "kernelspec": {
   "display_name": "myenv",
   "language": "python",
   "name": "python3"
  },
  "language_info": {
   "codemirror_mode": {
    "name": "ipython",
    "version": 3
   },
   "file_extension": ".py",
   "mimetype": "text/x-python",
   "name": "python",
   "nbconvert_exporter": "python",
   "pygments_lexer": "ipython3",
   "version": "3.13.2"
  }
 },
 "nbformat": 4,
 "nbformat_minor": 5
}
