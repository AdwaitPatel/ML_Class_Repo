{
 "cells": [
  {
   "cell_type": "markdown",
   "id": "6d28f80e",
   "metadata": {},
   "source": [
    "## Bayes Theorem\n",
    "\n",
    "Q1. In a neighbourhood 90% childrens were falling sick due to flue and 10% due to Measles and no other disease. The probabilty of observing rashes for Measles is 0.95 and for flue is 0.08. The child develop rashes, find the childs probablity having flue.\n",
    "\n",
    "F = Children with Flue  \n",
    "M = Children with Measles  \n",
    "R = Children showing the symptoms of rash  \n",
    "\n",
    "Given :  \n",
    "P(F) = 90% = 0.9  \n",
    "P(M) = 10% = 0.1  \n",
    "P(R/M) = 0.95  \n",
    "P(R/F) = 0.08  \n",
    "\n",
    "$$\n",
    "P(F/R) = \n",
    "\\frac{P(R/F)•P(F)}{P(R)}\n",
    "$$\n",
    " "
   ]
  },
  {
   "cell_type": "markdown",
   "id": "6a87064c",
   "metadata": {},
   "source": [
    "Q2. It is observed that 50% of mails are spam. Their is a software that filters mails before reaching the inbox. The accuracy for detecting a spam mail is 99% and chances of tagging a non-spam email as a spam email is 5%. If certain email is tagged as spam. Find probabilty of mail is not spam.\n",
    "\n",
    "Let    \n",
    "E1 = event of spam mail = 50% = 0.5  \n",
    "E2 = event of non-spam mail = 50% = 0.5  \n",
    "A = event of detecting a spam mail  \n"
   ]
  },
  {
   "cell_type": "markdown",
   "id": "c67fae3d",
   "metadata": {},
   "source": [
    "# Estimate the parameters of a modal\n",
    "\n",
    "based on maximum likelihood estimation method using a given  \n",
    "set of training data  \n",
    "\n",
    "# For Binomial distribution\n",
    "\n",
    "The likelihood function is : $$ L(P) =  ^nC_k + P^k * (1-P)^{\\, (n-k)} $$  \n",
    "n = no. of trails  \n",
    "k = the success\n",
    "\n"
   ]
  }
 ],
 "metadata": {
  "language_info": {
   "name": "python"
  }
 },
 "nbformat": 4,
 "nbformat_minor": 5
}
